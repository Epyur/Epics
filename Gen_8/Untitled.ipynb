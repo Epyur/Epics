{
 "cells": [
  {
   "cell_type": "code",
   "execution_count": 20,
   "id": "87dacd00-2c12-432a-bed3-5c44b5698702",
   "metadata": {},
   "outputs": [],
   "source": [
    "%run LPI-Copy1.py"
   ]
  },
  {
   "cell_type": "code",
   "execution_count": 17,
   "id": "115f12e3-e6ae-49a8-8335-595bfcb5b00f",
   "metadata": {},
   "outputs": [
    {
     "name": "stdout",
     "output_type": "stream",
     "text": [
      "Collecting deepmerge\n",
      "  Using cached deepmerge-2.0-py3-none-any.whl.metadata (3.5 kB)\n",
      "Using cached deepmerge-2.0-py3-none-any.whl (13 kB)\n",
      "Installing collected packages: deepmerge\n",
      "Successfully installed deepmerge-2.0\n"
     ]
    }
   ],
   "source": [
    "!pip install deepmerge"
   ]
  },
  {
   "cell_type": "code",
   "execution_count": null,
   "id": "ed1e46de-2356-422e-9375-2b9ba3b1fad6",
   "metadata": {},
   "outputs": [],
   "source": []
  }
 ],
 "metadata": {
  "kernelspec": {
   "display_name": "Python [conda env:base] *",
   "language": "python",
   "name": "conda-base-py"
  },
  "language_info": {
   "codemirror_mode": {
    "name": "ipython",
    "version": 3
   },
   "file_extension": ".py",
   "mimetype": "text/x-python",
   "name": "python",
   "nbconvert_exporter": "python",
   "pygments_lexer": "ipython3",
   "version": "3.12.7"
  }
 },
 "nbformat": 4,
 "nbformat_minor": 5
}
